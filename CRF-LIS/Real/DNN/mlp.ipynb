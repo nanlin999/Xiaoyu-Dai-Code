{
 "cells": [
  {
   "cell_type": "code",
   "execution_count": null,
   "metadata": {
    "collapsed": false
   },
   "outputs": [],
   "source": [
    "import pandas as pd\n",
    "import numpy as np\n",
    "\n",
    "from keras.models import Sequential\n",
    "from keras.layers import Dense, LSTM, Dropout\n",
    "from keras.layers.wrappers import TimeDistributed\n",
    "from keras.utils import np_utils\n",
    "from keras import optimizers"
   ]
  },
  {
   "cell_type": "code",
   "execution_count": null,
   "metadata": {
    "collapsed": true
   },
   "outputs": [],
   "source": [
    "from sklearn.preprocessing import MinMaxScaler\n",
    "from sklearn.metrics import confusion_matrix\n",
    "import random"
   ]
  },
  {
   "cell_type": "code",
   "execution_count": null,
   "metadata": {
    "collapsed": true
   },
   "outputs": [],
   "source": [
    "train = pd.read_csv('/Users/xiaoyudai/Documents/Paper3/Data/Brain_ES_chr18/crf/train_mlp', \n",
    "                    sep='\\t', header=None).values\n",
    "test = pd.read_csv('/Users/xiaoyudai/Documents/Paper3/Data/Brain_ES_chr18/crf/test_mlp', \n",
    "                    sep='\\t', header=None).values"
   ]
  },
  {
   "cell_type": "code",
   "execution_count": 13,
   "metadata": {
    "collapsed": false
   },
   "outputs": [
    {
     "data": {
      "text/plain": [
       "(64716, 34)"
      ]
     },
     "execution_count": 13,
     "metadata": {},
     "output_type": "execute_result"
    }
   ],
   "source": [
    "train.shape"
   ]
  },
  {
   "cell_type": "code",
   "execution_count": null,
   "metadata": {
    "collapsed": false
   },
   "outputs": [],
   "source": [
    "test.shape"
   ]
  },
  {
   "cell_type": "code",
   "execution_count": null,
   "metadata": {
    "collapsed": false
   },
   "outputs": [],
   "source": [
    "train[1,:]"
   ]
  },
  {
   "cell_type": "code",
   "execution_count": null,
   "metadata": {
    "collapsed": true
   },
   "outputs": [],
   "source": [
    "def normaling_feature(x_train, x_test):\n",
    "    dt = np.concatenate((x_train, x_test), axis=0)\n",
    "    scaler = MinMaxScaler(feature_range=(0,1))\n",
    "    scaler = scaler.fit(dt)\n",
    "    scaled_dt = scaler.transform(dt)\n",
    "    return scaled_dt[:x_train.shape[0], :], scaled_dt[x_train.shape[0]:, :]"
   ]
  },
  {
   "cell_type": "code",
   "execution_count": 9,
   "metadata": {
    "collapsed": true
   },
   "outputs": [],
   "source": [
    "x_train = train[:,0:-1].astype(np.float)\n",
    "y_train = train[:,-1].astype(np.float)\n",
    "\n",
    "x_test = test[:,0:-1].astype(np.float)\n",
    "y_test = test[:,-1].astype(np.float)\n",
    "\n",
    "y_train = np_utils.to_categorical(y_train)\n",
    "y_test = np_utils.to_categorical(y_test)"
   ]
  },
  {
   "cell_type": "code",
   "execution_count": null,
   "metadata": {
    "collapsed": false
   },
   "outputs": [],
   "source": [
    "scaled_x_train, scaled_x_test = normaling_feature(x_train, x_test)"
   ]
  },
  {
   "cell_type": "code",
   "execution_count": null,
   "metadata": {
    "collapsed": false
   },
   "outputs": [],
   "source": [
    "idx1 = np.where(y_train[:,1] == 1)[0]\n",
    "idx0 = np.where(y_train[:,1] == 0)[0]\n",
    "print(idx0.shape, idx1.shape)\n",
    "\n",
    "x_train_upsample = scaled_x_train\n",
    "y_train_upsample = y_train\n",
    "y_train_fdr_upsample = y_train_fdr\n",
    "\n",
    "for i in range(10):\n",
    "    x_train_upsample = np.concatenate((x_train_upsample, scaled_x_train[idx1,:]), axis=0)\n",
    "    y_train_upsample = np.concatenate((y_train_upsample, y_train[idx1,:]), axis=0)\n",
    "    y_train_fdr_upsample = np.concatenate((y_train_fdr_upsample, y_train_fdr[idx1]), axis=0)"
   ]
  },
  {
   "cell_type": "code",
   "execution_count": null,
   "metadata": {
    "collapsed": false
   },
   "outputs": [],
   "source": [
    "y_train_upsample[:,1].mean()"
   ]
  },
  {
   "cell_type": "code",
   "execution_count": null,
   "metadata": {
    "collapsed": false
   },
   "outputs": [],
   "source": [
    "idx1 = np.where(y_train[:,1] == 1)[0]\n",
    "idx0 = np.where(y_train[:,1] == 0)[0]\n",
    "idx0_sample = random.sample(idx0,idx1.shape[0])\n",
    "idx_sample = np.concatenate((idx0_sample,idx1))\n",
    "scaled_x_train_sample, y_train_sample = scaled_x_train[idx_sample,], y_train[idx_sample,]"
   ]
  },
  {
   "cell_type": "code",
   "execution_count": 21,
   "metadata": {
    "collapsed": false
   },
   "outputs": [],
   "source": [
    "model = Sequential()\n",
    "model.add(Dense(1024, input_shape=(33,), activation='relu'))\n",
    "# model.add((Dropout(0.2)))\n",
    "model.add(Dense(1024, activation='relu'))\n",
    "# model.add((Dropout(0.2)))\n",
    "model.add(Dense(512, activation='relu'))\n",
    "# model.add((Dropout(0.2)))\n",
    "model.add(Dense(256, activation='relu'))\n",
    "model.add(Dense(128, activation='relu'))\n",
    "model.add(Dense(64, activation='relu'))\n",
    "model.add(Dense(32, activation='relu'))\n",
    "# model.add(Dense(1, activation='linear'))\n",
    "model.add(Dense(2, activation='softmax'))"
   ]
  },
  {
   "cell_type": "code",
   "execution_count": 33,
   "metadata": {
    "collapsed": false
   },
   "outputs": [],
   "source": [
    "adam = optimizers.Adam(lr=0.0001, beta_1=0.9, beta_2=0.999, epsilon=1e-08, decay=0.0)\n",
    "model.compile(optimizer=adam, loss='categorical_crossentropy', metrics=['binary_accuracy', 'recall'])\n",
    "# model.compile(optimizer=adam, loss='mean_squared_error')"
   ]
  },
  {
   "cell_type": "code",
   "execution_count": null,
   "metadata": {
    "collapsed": false
   },
   "outputs": [],
   "source": [
    "model.summary()"
   ]
  },
  {
   "cell_type": "code",
   "execution_count": 35,
   "metadata": {
    "collapsed": false,
    "scrolled": true
   },
   "outputs": [
    {
     "name": "stdout",
     "output_type": "stream",
     "text": [
      "Epoch 1/5\n",
      "64716/64716 [==============================] - 16s - loss: 5.2520e-04 - binary_accuracy: 0.9998 - recall: 0.9998    \n",
      "Epoch 2/5\n",
      "64716/64716 [==============================] - 16s - loss: 6.8913e-04 - binary_accuracy: 0.9998 - recall: 0.9998    \n",
      "Epoch 3/5\n",
      "64716/64716 [==============================] - 16s - loss: 6.1414e-04 - binary_accuracy: 0.9998 - recall: 0.9998    \n",
      "Epoch 4/5\n",
      "64716/64716 [==============================] - 17s - loss: 4.3974e-04 - binary_accuracy: 0.9998 - recall: 0.9998    \n",
      "Epoch 5/5\n",
      "64716/64716 [==============================] - 17s - loss: 6.1035e-04 - binary_accuracy: 0.9998 - recall: 0.9998    \n"
     ]
    },
    {
     "data": {
      "text/plain": [
       "<keras.callbacks.History at 0x12130fd90>"
      ]
     },
     "execution_count": 35,
     "metadata": {},
     "output_type": "execute_result"
    }
   ],
   "source": [
    "model.fit(x_train, y_train, nb_epoch=5, batch_size = 4096)"
   ]
  },
  {
   "cell_type": "code",
   "execution_count": 2,
   "metadata": {
    "collapsed": false
   },
   "outputs": [
    {
     "ename": "NameError",
     "evalue": "name 'model' is not defined",
     "output_type": "error",
     "traceback": [
      "\u001b[0;31m---------------------------------------------------------------------------\u001b[0m",
      "\u001b[0;31mNameError\u001b[0m                                 Traceback (most recent call last)",
      "\u001b[0;32m<ipython-input-2-335629654bf8>\u001b[0m in \u001b[0;36m<module>\u001b[0;34m()\u001b[0m\n\u001b[0;32m----> 1\u001b[0;31m \u001b[0mmodel\u001b[0m\u001b[0;34m.\u001b[0m\u001b[0msave_weights\u001b[0m\u001b[0;34m(\u001b[0m\u001b[0;34m'/Users/xiaoyudai/Documents/Paper3/Data/code/dnn/model'\u001b[0m\u001b[0;34m)\u001b[0m\u001b[0;34m\u001b[0m\u001b[0m\n\u001b[0m\u001b[1;32m      2\u001b[0m \u001b[0;31m# model.load_weights('/Users/xiaoyudai/Documents/Paper3/Data/code/dnn/model')\u001b[0m\u001b[0;34m\u001b[0m\u001b[0;34m\u001b[0m\u001b[0m\n",
      "\u001b[0;31mNameError\u001b[0m: name 'model' is not defined"
     ]
    }
   ],
   "source": [
    "model.save_weights('/Users/xiaoyudai/Documents/Paper3/Data/code/dnn/model')\n",
    "# model.load_weights('/Users/xiaoyudai/Documents/Paper3/Data/code/dnn/model')"
   ]
  },
  {
   "cell_type": "code",
   "execution_count": null,
   "metadata": {
    "collapsed": false
   },
   "outputs": [],
   "source": [
    "model.evaluate(scaled_x_test, y_test)"
   ]
  },
  {
   "cell_type": "code",
   "execution_count": 37,
   "metadata": {
    "collapsed": false
   },
   "outputs": [],
   "source": [
    "pred_prob = model.predict(x_test)"
   ]
  },
  {
   "cell_type": "code",
   "execution_count": 38,
   "metadata": {
    "collapsed": false
   },
   "outputs": [
    {
     "data": {
      "text/plain": [
       "array([[290338,  14356],\n",
       "       [  8252,  10637]])"
      ]
     },
     "execution_count": 38,
     "metadata": {},
     "output_type": "execute_result"
    }
   ],
   "source": [
    "# pred_prob = model.predict(scaled_x_test)\n",
    "pred = pred_prob[:,1] > 0.5\n",
    "truth = y_test[:,1]\n",
    "confusion_matrix(pred, truth)"
   ]
  },
  {
   "cell_type": "code",
   "execution_count": 40,
   "metadata": {
    "collapsed": false
   },
   "outputs": [],
   "source": [
    "np.savetxt('/Users/xiaoyudai/Documents/Paper3/Data/Brain_ES_chr18/crf/result_mlp', pred_prob)"
   ]
  },
  {
   "cell_type": "code",
   "execution_count": 26,
   "metadata": {
    "collapsed": false
   },
   "outputs": [
    {
     "data": {
      "text/plain": [
       "array([[  9.99999881e-01,   1.49358954e-07],\n",
       "       [  9.99999881e-01,   1.49273518e-07],\n",
       "       [  0.00000000e+00,   1.00000000e+00],\n",
       "       ..., \n",
       "       [  1.00000000e+00,   1.96619787e-30],\n",
       "       [  1.00000000e+00,   2.55404852e-29],\n",
       "       [  1.00000000e+00,   2.61501504e-29]], dtype=float32)"
      ]
     },
     "execution_count": 26,
     "metadata": {},
     "output_type": "execute_result"
    }
   ],
   "source": [
    "pred_prob"
   ]
  },
  {
   "cell_type": "code",
   "execution_count": null,
   "metadata": {
    "collapsed": false
   },
   "outputs": [],
   "source": []
  },
  {
   "cell_type": "code",
   "execution_count": null,
   "metadata": {
    "collapsed": true
   },
   "outputs": [],
   "source": []
  }
 ],
 "metadata": {
  "anaconda-cloud": {},
  "kernelspec": {
   "display_name": "Python [default]",
   "language": "python",
   "name": "python2"
  },
  "language_info": {
   "codemirror_mode": {
    "name": "ipython",
    "version": 2
   },
   "file_extension": ".py",
   "mimetype": "text/x-python",
   "name": "python",
   "nbconvert_exporter": "python",
   "pygments_lexer": "ipython2",
   "version": "2.7.12"
  }
 },
 "nbformat": 4,
 "nbformat_minor": 1
}
